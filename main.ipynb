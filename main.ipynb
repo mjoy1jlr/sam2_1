{
 "cells": [
  {
   "cell_type": "code",
   "execution_count": 2,
   "metadata": {},
   "outputs": [
    {
     "data": {
      "text/plain": [
       "'\\nFOLDER = \"./data/train\"\\n\\nfor filename in os.listdir(FOLDER):\\n    # Replace all except last dot with underscore\\n    new_filename = filename.replace(\".\", \"_\", filename.count(\".\") - 1)\\n    if not re.search(r\"_\\\\d+\\\\.\\\\w+$\", new_filename):\\n        # Add an int to the end of base name\\n        new_filename = new_filename.replace(\".\", \"_1.\")\\n        \\n    os.rename(os.path.join(FOLDER, filename), os.path.join(FOLDER, new_filename))\\n'"
      ]
     },
     "execution_count": 2,
     "metadata": {},
     "output_type": "execute_result"
    }
   ],
   "source": [
    "import os\n",
    "import re\n",
    "\n",
    "# modifying the file names in our dataset to ensure that they don’t contain various characters that we have found cause problems\n",
    "\"\"\"\n",
    "FOLDER = \"./data/train\"\n",
    "\n",
    "for filename in os.listdir(FOLDER):\n",
    "    # Replace all except last dot with underscore\n",
    "    new_filename = filename.replace(\".\", \"_\", filename.count(\".\") - 1)\n",
    "    if not re.search(r\"_\\d+\\.\\w+$\", new_filename):\n",
    "        # Add an int to the end of base name\n",
    "        new_filename = new_filename.replace(\".\", \"_1.\")\n",
    "        \n",
    "    os.rename(os.path.join(FOLDER, filename), os.path.join(FOLDER, new_filename))\n",
    "\"\"\""
   ]
  },
  {
   "cell_type": "code",
   "execution_count": null,
   "metadata": {},
   "outputs": [],
   "source": [
    "%cd ./sam2/"
   ]
  },
  {
   "cell_type": "code",
   "execution_count": 17,
   "metadata": {},
   "outputs": [
    {
     "name": "stdout",
     "output_type": "stream",
     "text": [
      "c:\\Users\\mjoy1\\OneDrive\\OneDrive - JLR\\Documents\\Code_and_Tasks\\Paint_Segmentation\\SAM_2_1\\sam2\n"
     ]
    },
    {
     "name": "stderr",
     "output_type": "stream",
     "text": [
      "Traceback (most recent call last):\n",
      "  File \"c:\\Users\\mjoy1\\OneDrive\\OneDrive - JLR\\Documents\\Code_and_Tasks\\Paint_Segmentation\\SAM_2_1\\sam2\\training\\train.py\", line 270, in <module>\n",
      "    main(args)\n",
      "  File \"c:\\Users\\mjoy1\\OneDrive\\OneDrive - JLR\\Documents\\Code_and_Tasks\\Paint_Segmentation\\SAM_2_1\\sam2\\training\\train.py\", line 124, in main\n",
      "    cfg = compose(config_name=args.config)\n",
      "  File \"C:\\Users\\mjoy1\\AppData\\Roaming\\Python\\Python310\\site-packages\\hydra\\compose.py\", line 38, in compose\n",
      "    cfg = gh.hydra.compose_config(\n",
      "  File \"C:\\Users\\mjoy1\\AppData\\Roaming\\Python\\Python310\\site-packages\\hydra\\_internal\\hydra.py\", line 594, in compose_config\n",
      "    cfg = self.config_loader.load_configuration(\n",
      "  File \"C:\\Users\\mjoy1\\AppData\\Roaming\\Python\\Python310\\site-packages\\hydra\\_internal\\config_loader_impl.py\", line 142, in load_configuration\n",
      "    return self._load_configuration_impl(\n",
      "  File \"C:\\Users\\mjoy1\\AppData\\Roaming\\Python\\Python310\\site-packages\\hydra\\_internal\\config_loader_impl.py\", line 243, in _load_configuration_impl\n",
      "    self.ensure_main_config_source_available()\n",
      "  File \"C:\\Users\\mjoy1\\AppData\\Roaming\\Python\\Python310\\site-packages\\hydra\\_internal\\config_loader_impl.py\", line 129, in ensure_main_config_source_available\n",
      "    self._missing_config_error(\n",
      "  File \"C:\\Users\\mjoy1\\AppData\\Roaming\\Python\\Python310\\site-packages\\hydra\\_internal\\config_loader_impl.py\", line 102, in _missing_config_error\n",
      "    raise MissingConfigException(\n",
      "hydra.errors.MissingConfigException: Primary config module 'sam2' not found.\n",
      "Check that it's correct and contains an __init__.py file\n"
     ]
    }
   ],
   "source": [
    "print(os.getcwd())\n",
    "\n",
    "!python training/train.py -c 'configs/train.yaml' --use-cluster 0 --num-gpus 1"
   ]
  }
 ],
 "metadata": {
  "kernelspec": {
   "display_name": "Python 3",
   "language": "python",
   "name": "python3"
  },
  "language_info": {
   "codemirror_mode": {
    "name": "ipython",
    "version": 3
   },
   "file_extension": ".py",
   "mimetype": "text/x-python",
   "name": "python",
   "nbconvert_exporter": "python",
   "pygments_lexer": "ipython3",
   "version": "3.10.11"
  }
 },
 "nbformat": 4,
 "nbformat_minor": 2
}
